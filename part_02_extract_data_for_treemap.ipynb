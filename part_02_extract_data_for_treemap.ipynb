{
 "cells": [
  {
   "cell_type": "markdown",
   "metadata": {},
   "source": [
    "# Scan a Microsoft Word document (*.docx) and count the number of characters in each section for use in a treemap\n",
    "mike babb  \n",
    "created: 2025 09 06"
   ]
  },
  {
   "cell_type": "code",
   "execution_count": 1,
   "metadata": {},
   "outputs": [],
   "source": [
    "# standard libraries\n",
    "import datetime\n",
    "import os\n",
    "from pathlib import Path"
   ]
  },
  {
   "cell_type": "code",
   "execution_count": 2,
   "metadata": {},
   "outputs": [],
   "source": [
    "# external libraries\n",
    "from docx import Document\n",
    "import numpy as np\n",
    "import pandas as pd"
   ]
  },
  {
   "cell_type": "markdown",
   "metadata": {},
   "source": [
    "# control logic and inputs and outputs"
   ]
  },
  {
   "cell_type": "code",
   "execution_count": 3,
   "metadata": {},
   "outputs": [],
   "source": [
    "# use the demo data\n",
    "use_demo = True"
   ]
  },
  {
   "cell_type": "code",
   "execution_count": null,
   "metadata": {},
   "outputs": [],
   "source": [
    "if use_demo:\n",
    "    input_file_name = 'demo_text.docx'\n",
    "    input_fpn = input_file_name\n",
    "    output_fpn = 'demo_text.txt'\n",
    "else:\n",
    "    # input \n",
    "    input_file_path = \"YOUR-INPUT-DIRECTORY\"\n",
    "    input_file_name = 'YOUR-INPUT-FILE'\n",
    "    input_fpn = os.path.join(input_file_path, input_file_name)\n",
    "\n",
    "    # output\n",
    "    output_file_path = \"YOUR-OUTPUT-DIRECTORY\"\n",
    "\n",
    "    # format a datetime for use in a file name showing incremental changes\n",
    "    curr_dt = datetime.datetime.now().strftime('%Y_%m_%d_%H_%M_%S')\n",
    "    output_file_name = 'chapter_data_' + curr_dt + '.txt'\n",
    "    output_fpn = os.path.join(output_file_path, output_file_name)"
   ]
  },
  {
   "cell_type": "markdown",
   "metadata": {},
   "source": [
    "# open the document and read all of the paragraphs"
   ]
  },
  {
   "cell_type": "code",
   "execution_count": 5,
   "metadata": {},
   "outputs": [],
   "source": [
    "document = Document(input_fpn)\n",
    "paras = document.paragraphs"
   ]
  },
  {
   "cell_type": "markdown",
   "metadata": {},
   "source": [
    "## scan the document to count the maximum heading depth"
   ]
  },
  {
   "cell_type": "code",
   "execution_count": 6,
   "metadata": {},
   "outputs": [
    {
     "name": "stdout",
     "output_type": "stream",
     "text": [
      "max_heading_depth=5\n"
     ]
    }
   ],
   "source": [
    "max_heading_depth = 0\n",
    "\n",
    "style_id_set = set()\n",
    "for para in paras:    \n",
    "    text_style = para.style\n",
    "    # the style_id is the name of the style\n",
    "    style_id = text_style.style_id\n",
    "    \n",
    "    if 'Heading' in style_id:            \n",
    "        style_id_set.add(style_id)\n",
    "        \n",
    "style_id_set = sorted(list(style_id_set))\n",
    "#print(len(style_id_set))\n",
    "if len(style_id_set) > max_heading_depth:\n",
    "    max_heading_depth = len(style_id_set) + 1\n",
    "\n",
    "print(f\"{max_heading_depth=}\")"
   ]
  },
  {
   "cell_type": "code",
   "execution_count": 7,
   "metadata": {},
   "outputs": [
    {
     "name": "stdout",
     "output_type": "stream",
     "text": [
      "col_names=['file_name', 'h0', 'h1', 'h2', 'h3', 'h4', 'char_count']\n"
     ]
    }
   ],
   "source": [
    "# build columns based on document depth\n",
    "col_names = ['file_name']\n",
    "col_names.extend(['h' + str(x) for x in range(0, max_heading_depth )])\n",
    "col_names.append('char_count')\n",
    "print(f\"{col_names=}\")"
   ]
  },
  {
   "cell_type": "markdown",
   "metadata": {},
   "source": [
    "## scan the paragraphs to count the number of characters and tally based on the style in each section"
   ]
  },
  {
   "cell_type": "code",
   "execution_count": 8,
   "metadata": {},
   "outputs": [
    {
     "name": "stdout",
     "output_type": "stream",
     "text": [
      "Number of paragraphs: 60\n"
     ]
    }
   ],
   "source": [
    "print(\"Number of paragraphs:\", len(paras))\n",
    "\n",
    "# list to hold the counted output\n",
    "heading_data_output_list = []\n",
    "\n",
    "# count characters with these text styles\n",
    "keep_style_set = {'Normal', 'Caption', 'ListParagraph'}\n",
    "\n",
    "# ignore text in these headings / sections \n",
    "ignore_headings = {'List of Figures', 'List of Tables'}\n",
    "\n",
    "# the heading depths will occupy the elements of this lists\n",
    "h_list = [''] * max_heading_depth\n",
    "\n",
    "# counter for each heading\n",
    "heading_count = 1\n",
    "\n",
    "# count (0,1) headings\n",
    "h0_level_count = 1\n",
    "\n",
    "# dictionary to hold each uniquely identified heading\n",
    "heading_dict = {}    \n",
    "\n",
    "# these variables hold the current and previously identified depths\n",
    "# necessary for properly recording text depth\n",
    "curr_depth = 0\n",
    "prev_depth = 0\n",
    "\n",
    "# enumerate the paragraphs\n",
    "for para in paras:    \n",
    "    \n",
    "    # the id of the text - the name\n",
    "    style_id = para.style.style_id\n",
    "    \n",
    "    # the text of the paragraph\n",
    "    curr_text = para.text        \n",
    "    \n",
    "    # let's remove the 'list of figures' and the 'list of tables'\n",
    "    if curr_text not in ignore_headings:    \n",
    "        \n",
    "        if style_id[:7] == 'Heading':\n",
    "            #print(style_id)\n",
    "            style_level = int(style_id[-1])            \n",
    "\n",
    "            # every time a heading of (0,1) is encountered, reset the depth lists\n",
    "            if style_level in (0, 1):\n",
    "                h_list = [''] * max_heading_depth\n",
    "                style_level = 1\n",
    "                \n",
    "                # this is used to create a numeric depth\n",
    "                heading_idx_array = np.zeros(shape = (max_heading_depth, ), dtype = int)\n",
    "                heading_idx_array[0] = h0_level_count\n",
    "                h0_level_count += 1                \n",
    "\n",
    "            # strip excess spaces and create an id\n",
    "            stripped_text = curr_text.strip()\n",
    "            id_stripped_text = str(heading_count).zfill(2) + ' ' + stripped_text\n",
    "            \n",
    "            # this is what is being used to track the depth level via the 1.1.3.4 format           \n",
    "            # update if previous depth is deeper than the current depth\n",
    "            prev_depth = curr_depth\n",
    "            curr_depth = style_level\n",
    "            \n",
    "            if prev_depth > curr_depth:\n",
    "                for jj in range(curr_depth, max_heading_depth):\n",
    "                    heading_idx_array[jj] = 0\n",
    "            \n",
    "            if style_level > 1:\n",
    "                heading_idx_array[style_level - 1] += 1 \n",
    "                                                    \n",
    "            # make a copy of the idx array\n",
    "            curr_heading_idx_array = heading_idx_array.copy()                                              \n",
    "\n",
    "            # add the stripped text to the dictionary\n",
    "            temp_list = [stripped_text, curr_heading_idx_array]                    \n",
    "            heading_dict[id_stripped_text] = temp_list                \n",
    "            \n",
    "            to_include = str(heading_count).zfill(2) + ' ' + stripped_text                        \n",
    "            \n",
    "            # reset the text in the style level list\n",
    "            # this is necessary when the current style level is 2 and the previous\n",
    "            # style level is 3. Otherwise, the text for style level 3\n",
    "            # would be incorrectly carried forward\n",
    "            for sl in range(style_level + 1, max_heading_depth ):\n",
    "                h_list[sl] = ''\n",
    "            \n",
    "            h_list[style_level] = to_include        \n",
    "\n",
    "            heading_count += 1                                \n",
    "        \n",
    "        if style_id in keep_style_set:            \n",
    "            curr_list = [input_file_name]            \n",
    "            curr_list.extend(h_list)\n",
    "            \n",
    "            # get the number of characters, finally\n",
    "            curr_text_length = len(para.text)\n",
    "            curr_list.append(curr_text_length)\n",
    "            \n",
    "            heading_data_output_list.append(curr_list)                            \n",
    "\n",
    "# nested heading depth dataframe\n",
    "df = pd.DataFrame(data=heading_data_output_list, columns=col_names)\n",
    "\n",
    "# drop columns that are all '' in the nested heading depth dataframe\n",
    "drop_col_list = []\n",
    "for cn in df.columns:\n",
    "    if np.all(a = df[cn] == ''):\n",
    "        drop_col_list.append(cn)\n",
    "df = df.drop(labels=drop_col_list, axis = 1)\n",
    "\n",
    "# generate a list of column names pertaining to headings\n",
    "heading_col_names = df.columns.to_list()[1:-1]\n",
    "\n",
    "# heading depth dataframe\n",
    "hd_df = pd.DataFrame.from_dict(data = heading_dict, orient='index',\n",
    "                               columns = ['heading_text', 'heading_level']).reset_index(names = ['id_heading_text'])"
   ]
  },
  {
   "cell_type": "code",
   "execution_count": 9,
   "metadata": {},
   "outputs": [
    {
     "data": {
      "text/html": [
       "<div>\n",
       "<style scoped>\n",
       "    .dataframe tbody tr th:only-of-type {\n",
       "        vertical-align: middle;\n",
       "    }\n",
       "\n",
       "    .dataframe tbody tr th {\n",
       "        vertical-align: top;\n",
       "    }\n",
       "\n",
       "    .dataframe thead th {\n",
       "        text-align: right;\n",
       "    }\n",
       "</style>\n",
       "<table border=\"1\" class=\"dataframe\">\n",
       "  <thead>\n",
       "    <tr style=\"text-align: right;\">\n",
       "      <th></th>\n",
       "      <th>id_heading_text</th>\n",
       "      <th>heading_text</th>\n",
       "      <th>heading_level</th>\n",
       "    </tr>\n",
       "  </thead>\n",
       "  <tbody>\n",
       "    <tr>\n",
       "      <th>0</th>\n",
       "      <td>01 heading 1</td>\n",
       "      <td>heading 1</td>\n",
       "      <td>[1, 0, 0, 0, 0]</td>\n",
       "    </tr>\n",
       "    <tr>\n",
       "      <th>1</th>\n",
       "      <td>02 subheading 1.1</td>\n",
       "      <td>subheading 1.1</td>\n",
       "      <td>[1, 1, 0, 0, 0]</td>\n",
       "    </tr>\n",
       "    <tr>\n",
       "      <th>2</th>\n",
       "      <td>03 subheading 1.2</td>\n",
       "      <td>subheading 1.2</td>\n",
       "      <td>[1, 2, 0, 0, 0]</td>\n",
       "    </tr>\n",
       "    <tr>\n",
       "      <th>3</th>\n",
       "      <td>04 subheading 1.2.1</td>\n",
       "      <td>subheading 1.2.1</td>\n",
       "      <td>[1, 2, 1, 0, 0]</td>\n",
       "    </tr>\n",
       "    <tr>\n",
       "      <th>4</th>\n",
       "      <td>05 subheading 1.2.2</td>\n",
       "      <td>subheading 1.2.2</td>\n",
       "      <td>[1, 2, 2, 0, 0]</td>\n",
       "    </tr>\n",
       "  </tbody>\n",
       "</table>\n",
       "</div>"
      ],
      "text/plain": [
       "       id_heading_text      heading_text    heading_level\n",
       "0         01 heading 1         heading 1  [1, 0, 0, 0, 0]\n",
       "1    02 subheading 1.1    subheading 1.1  [1, 1, 0, 0, 0]\n",
       "2    03 subheading 1.2    subheading 1.2  [1, 2, 0, 0, 0]\n",
       "3  04 subheading 1.2.1  subheading 1.2.1  [1, 2, 1, 0, 0]\n",
       "4  05 subheading 1.2.2  subheading 1.2.2  [1, 2, 2, 0, 0]"
      ]
     },
     "execution_count": 9,
     "metadata": {},
     "output_type": "execute_result"
    }
   ],
   "source": [
    "hd_df.head()"
   ]
  },
  {
   "cell_type": "code",
   "execution_count": 10,
   "metadata": {},
   "outputs": [
    {
     "data": {
      "text/html": [
       "<div>\n",
       "<style scoped>\n",
       "    .dataframe tbody tr th:only-of-type {\n",
       "        vertical-align: middle;\n",
       "    }\n",
       "\n",
       "    .dataframe tbody tr th {\n",
       "        vertical-align: top;\n",
       "    }\n",
       "\n",
       "    .dataframe thead th {\n",
       "        text-align: right;\n",
       "    }\n",
       "</style>\n",
       "<table border=\"1\" class=\"dataframe\">\n",
       "  <thead>\n",
       "    <tr style=\"text-align: right;\">\n",
       "      <th></th>\n",
       "      <th>file_name</th>\n",
       "      <th>h1</th>\n",
       "      <th>h2</th>\n",
       "      <th>h3</th>\n",
       "      <th>h4</th>\n",
       "      <th>char_count</th>\n",
       "    </tr>\n",
       "  </thead>\n",
       "  <tbody>\n",
       "    <tr>\n",
       "      <th>0</th>\n",
       "      <td>demo_text.docx</td>\n",
       "      <td>01 heading 1</td>\n",
       "      <td></td>\n",
       "      <td></td>\n",
       "      <td></td>\n",
       "      <td>81</td>\n",
       "    </tr>\n",
       "    <tr>\n",
       "      <th>1</th>\n",
       "      <td>demo_text.docx</td>\n",
       "      <td>01 heading 1</td>\n",
       "      <td>02 subheading 1.1</td>\n",
       "      <td></td>\n",
       "      <td></td>\n",
       "      <td>230</td>\n",
       "    </tr>\n",
       "    <tr>\n",
       "      <th>2</th>\n",
       "      <td>demo_text.docx</td>\n",
       "      <td>01 heading 1</td>\n",
       "      <td>03 subheading 1.2</td>\n",
       "      <td></td>\n",
       "      <td></td>\n",
       "      <td>330</td>\n",
       "    </tr>\n",
       "    <tr>\n",
       "      <th>3</th>\n",
       "      <td>demo_text.docx</td>\n",
       "      <td>01 heading 1</td>\n",
       "      <td>03 subheading 1.2</td>\n",
       "      <td>04 subheading 1.2.1</td>\n",
       "      <td></td>\n",
       "      <td>59</td>\n",
       "    </tr>\n",
       "    <tr>\n",
       "      <th>4</th>\n",
       "      <td>demo_text.docx</td>\n",
       "      <td>01 heading 1</td>\n",
       "      <td>03 subheading 1.2</td>\n",
       "      <td>05 subheading 1.2.2</td>\n",
       "      <td></td>\n",
       "      <td>379</td>\n",
       "    </tr>\n",
       "  </tbody>\n",
       "</table>\n",
       "</div>"
      ],
      "text/plain": [
       "        file_name            h1                 h2                   h3 h4  \\\n",
       "0  demo_text.docx  01 heading 1                                              \n",
       "1  demo_text.docx  01 heading 1  02 subheading 1.1                           \n",
       "2  demo_text.docx  01 heading 1  03 subheading 1.2                           \n",
       "3  demo_text.docx  01 heading 1  03 subheading 1.2  04 subheading 1.2.1      \n",
       "4  demo_text.docx  01 heading 1  03 subheading 1.2  05 subheading 1.2.2      \n",
       "\n",
       "   char_count  \n",
       "0          81  \n",
       "1         230  \n",
       "2         330  \n",
       "3          59  \n",
       "4         379  "
      ]
     },
     "execution_count": 10,
     "metadata": {},
     "output_type": "execute_result"
    }
   ],
   "source": [
    "df.head()"
   ]
  },
  {
   "cell_type": "markdown",
   "metadata": {},
   "source": [
    "# Format the data for output"
   ]
  },
  {
   "cell_type": "code",
   "execution_count": 11,
   "metadata": {},
   "outputs": [],
   "source": [
    "def collapse_numeric_depth(hdl:list) -> str:\n",
    "    \"\"\" Collapse the heading level. From [1,1,0,0] to 1.1.\n",
    "\n",
    "    Args:\n",
    "        hdl (list): Heading level. [1,1,0,0]\n",
    "\n",
    "    Returns:\n",
    "        str: 1.1\n",
    "    \"\"\"\n",
    "    \n",
    "    # format the numeric heading depth\n",
    "    outcome = [str(hd) for hd in hdl.tolist()]\n",
    "    \n",
    "    if outcome[0] == '0':\n",
    "        outcome = '0.0'\n",
    "    else:\n",
    "        outcome = [hd for hd in outcome if hd != '0']\n",
    "        \n",
    "        if len(outcome) == 1:\n",
    "            outcome.append('0')\n",
    "        outcome = '.'.join(outcome)\n",
    "    return outcome"
   ]
  },
  {
   "cell_type": "code",
   "execution_count": 12,
   "metadata": {},
   "outputs": [],
   "source": [
    "hd_df['heading_level'] = hd_df['heading_level'].map(collapse_numeric_depth)"
   ]
  },
  {
   "cell_type": "code",
   "execution_count": 13,
   "metadata": {},
   "outputs": [
    {
     "data": {
      "text/plain": [
       "(30, 6)"
      ]
     },
     "execution_count": 13,
     "metadata": {},
     "output_type": "execute_result"
    }
   ],
   "source": [
    "# aggregate\n",
    "agg_col_names = df.columns.tolist()\n",
    "df_agg = df.groupby(agg_col_names[:-1]).agg(char_count = ('char_count', 'sum')).reset_index()\n",
    "df_agg.shape"
   ]
  },
  {
   "cell_type": "code",
   "execution_count": 14,
   "metadata": {},
   "outputs": [
    {
     "data": {
      "text/html": [
       "<div>\n",
       "<style scoped>\n",
       "    .dataframe tbody tr th:only-of-type {\n",
       "        vertical-align: middle;\n",
       "    }\n",
       "\n",
       "    .dataframe tbody tr th {\n",
       "        vertical-align: top;\n",
       "    }\n",
       "\n",
       "    .dataframe thead th {\n",
       "        text-align: right;\n",
       "    }\n",
       "</style>\n",
       "<table border=\"1\" class=\"dataframe\">\n",
       "  <thead>\n",
       "    <tr style=\"text-align: right;\">\n",
       "      <th></th>\n",
       "      <th>file_name</th>\n",
       "      <th>h1</th>\n",
       "      <th>h2</th>\n",
       "      <th>h3</th>\n",
       "      <th>h4</th>\n",
       "      <th>char_count</th>\n",
       "    </tr>\n",
       "  </thead>\n",
       "  <tbody>\n",
       "    <tr>\n",
       "      <th>0</th>\n",
       "      <td>demo_text.docx</td>\n",
       "      <td>01 heading 1</td>\n",
       "      <td></td>\n",
       "      <td></td>\n",
       "      <td></td>\n",
       "      <td>81</td>\n",
       "    </tr>\n",
       "    <tr>\n",
       "      <th>1</th>\n",
       "      <td>demo_text.docx</td>\n",
       "      <td>01 heading 1</td>\n",
       "      <td>02 subheading 1.1</td>\n",
       "      <td></td>\n",
       "      <td></td>\n",
       "      <td>230</td>\n",
       "    </tr>\n",
       "    <tr>\n",
       "      <th>2</th>\n",
       "      <td>demo_text.docx</td>\n",
       "      <td>01 heading 1</td>\n",
       "      <td>03 subheading 1.2</td>\n",
       "      <td></td>\n",
       "      <td></td>\n",
       "      <td>330</td>\n",
       "    </tr>\n",
       "    <tr>\n",
       "      <th>3</th>\n",
       "      <td>demo_text.docx</td>\n",
       "      <td>01 heading 1</td>\n",
       "      <td>03 subheading 1.2</td>\n",
       "      <td>04 subheading 1.2.1</td>\n",
       "      <td></td>\n",
       "      <td>59</td>\n",
       "    </tr>\n",
       "    <tr>\n",
       "      <th>4</th>\n",
       "      <td>demo_text.docx</td>\n",
       "      <td>01 heading 1</td>\n",
       "      <td>03 subheading 1.2</td>\n",
       "      <td>05 subheading 1.2.2</td>\n",
       "      <td></td>\n",
       "      <td>379</td>\n",
       "    </tr>\n",
       "  </tbody>\n",
       "</table>\n",
       "</div>"
      ],
      "text/plain": [
       "        file_name            h1                 h2                   h3 h4  \\\n",
       "0  demo_text.docx  01 heading 1                                              \n",
       "1  demo_text.docx  01 heading 1  02 subheading 1.1                           \n",
       "2  demo_text.docx  01 heading 1  03 subheading 1.2                           \n",
       "3  demo_text.docx  01 heading 1  03 subheading 1.2  04 subheading 1.2.1      \n",
       "4  demo_text.docx  01 heading 1  03 subheading 1.2  05 subheading 1.2.2      \n",
       "\n",
       "   char_count  \n",
       "0          81  \n",
       "1         230  \n",
       "2         330  \n",
       "3          59  \n",
       "4         379  "
      ]
     },
     "execution_count": 14,
     "metadata": {},
     "output_type": "execute_result"
    }
   ],
   "source": [
    "df_agg.head()"
   ]
  },
  {
   "cell_type": "code",
   "execution_count": 15,
   "metadata": {},
   "outputs": [
    {
     "data": {
      "text/html": [
       "<div>\n",
       "<style scoped>\n",
       "    .dataframe tbody tr th:only-of-type {\n",
       "        vertical-align: middle;\n",
       "    }\n",
       "\n",
       "    .dataframe tbody tr th {\n",
       "        vertical-align: top;\n",
       "    }\n",
       "\n",
       "    .dataframe thead th {\n",
       "        text-align: right;\n",
       "    }\n",
       "</style>\n",
       "<table border=\"1\" class=\"dataframe\">\n",
       "  <thead>\n",
       "    <tr style=\"text-align: right;\">\n",
       "      <th></th>\n",
       "      <th>id_heading_text</th>\n",
       "      <th>heading_text</th>\n",
       "      <th>heading_level</th>\n",
       "    </tr>\n",
       "  </thead>\n",
       "  <tbody>\n",
       "    <tr>\n",
       "      <th>0</th>\n",
       "      <td>01 heading 1</td>\n",
       "      <td>heading 1</td>\n",
       "      <td>1.0</td>\n",
       "    </tr>\n",
       "    <tr>\n",
       "      <th>1</th>\n",
       "      <td>02 subheading 1.1</td>\n",
       "      <td>subheading 1.1</td>\n",
       "      <td>1.1</td>\n",
       "    </tr>\n",
       "    <tr>\n",
       "      <th>2</th>\n",
       "      <td>03 subheading 1.2</td>\n",
       "      <td>subheading 1.2</td>\n",
       "      <td>1.2</td>\n",
       "    </tr>\n",
       "    <tr>\n",
       "      <th>3</th>\n",
       "      <td>04 subheading 1.2.1</td>\n",
       "      <td>subheading 1.2.1</td>\n",
       "      <td>1.2.1</td>\n",
       "    </tr>\n",
       "    <tr>\n",
       "      <th>4</th>\n",
       "      <td>05 subheading 1.2.2</td>\n",
       "      <td>subheading 1.2.2</td>\n",
       "      <td>1.2.2</td>\n",
       "    </tr>\n",
       "  </tbody>\n",
       "</table>\n",
       "</div>"
      ],
      "text/plain": [
       "       id_heading_text      heading_text heading_level\n",
       "0         01 heading 1         heading 1           1.0\n",
       "1    02 subheading 1.1    subheading 1.1           1.1\n",
       "2    03 subheading 1.2    subheading 1.2           1.2\n",
       "3  04 subheading 1.2.1  subheading 1.2.1         1.2.1\n",
       "4  05 subheading 1.2.2  subheading 1.2.2         1.2.2"
      ]
     },
     "execution_count": 15,
     "metadata": {},
     "output_type": "execute_result"
    }
   ],
   "source": [
    "hd_df.head()"
   ]
  },
  {
   "cell_type": "code",
   "execution_count": 16,
   "metadata": {},
   "outputs": [],
   "source": [
    "def update_heading_level(ht:str) -> str:\n",
    "    \"\"\" Append the numerical depth to the nested depth headings\n",
    "\n",
    "    Args:\n",
    "        ht (str): Heading text\n",
    "\n",
    "    Returns:\n",
    "        str: Formatted heading text\n",
    "    \"\"\"\n",
    "    \n",
    "    curr_text = ht\n",
    "    \n",
    "    if ht != '':        \n",
    "        curr_index = hd_df.loc[hd_df['id_heading_text'] == ht, :]\n",
    "        if curr_index.shape[0] > 0:        \n",
    "            curr_text = curr_index['heading_level'].iloc[0] + ' ' + curr_index['heading_text'].iloc[0]              \n",
    "                    \n",
    "    return curr_text"
   ]
  },
  {
   "cell_type": "code",
   "execution_count": 17,
   "metadata": {},
   "outputs": [],
   "source": [
    "# add numeric depth indicator \n",
    "for cn in heading_col_names:\n",
    "     df_agg[cn]  = df_agg[cn].fillna('')\n",
    "     df_agg[cn] = df_agg[cn].map(update_heading_level)         "
   ]
  },
  {
   "cell_type": "code",
   "execution_count": 18,
   "metadata": {},
   "outputs": [
    {
     "data": {
      "text/html": [
       "<div>\n",
       "<style scoped>\n",
       "    .dataframe tbody tr th:only-of-type {\n",
       "        vertical-align: middle;\n",
       "    }\n",
       "\n",
       "    .dataframe tbody tr th {\n",
       "        vertical-align: top;\n",
       "    }\n",
       "\n",
       "    .dataframe thead th {\n",
       "        text-align: right;\n",
       "    }\n",
       "</style>\n",
       "<table border=\"1\" class=\"dataframe\">\n",
       "  <thead>\n",
       "    <tr style=\"text-align: right;\">\n",
       "      <th></th>\n",
       "      <th>file_name</th>\n",
       "      <th>h1</th>\n",
       "      <th>h2</th>\n",
       "      <th>h3</th>\n",
       "      <th>h4</th>\n",
       "      <th>char_count</th>\n",
       "    </tr>\n",
       "  </thead>\n",
       "  <tbody>\n",
       "    <tr>\n",
       "      <th>0</th>\n",
       "      <td>demo_text.docx</td>\n",
       "      <td>1.0 heading 1</td>\n",
       "      <td></td>\n",
       "      <td></td>\n",
       "      <td></td>\n",
       "      <td>81</td>\n",
       "    </tr>\n",
       "    <tr>\n",
       "      <th>1</th>\n",
       "      <td>demo_text.docx</td>\n",
       "      <td>1.0 heading 1</td>\n",
       "      <td>1.1 subheading 1.1</td>\n",
       "      <td></td>\n",
       "      <td></td>\n",
       "      <td>230</td>\n",
       "    </tr>\n",
       "    <tr>\n",
       "      <th>2</th>\n",
       "      <td>demo_text.docx</td>\n",
       "      <td>1.0 heading 1</td>\n",
       "      <td>1.2 subheading 1.2</td>\n",
       "      <td></td>\n",
       "      <td></td>\n",
       "      <td>330</td>\n",
       "    </tr>\n",
       "    <tr>\n",
       "      <th>3</th>\n",
       "      <td>demo_text.docx</td>\n",
       "      <td>1.0 heading 1</td>\n",
       "      <td>1.2 subheading 1.2</td>\n",
       "      <td>1.2.1 subheading 1.2.1</td>\n",
       "      <td></td>\n",
       "      <td>59</td>\n",
       "    </tr>\n",
       "    <tr>\n",
       "      <th>4</th>\n",
       "      <td>demo_text.docx</td>\n",
       "      <td>1.0 heading 1</td>\n",
       "      <td>1.2 subheading 1.2</td>\n",
       "      <td>1.2.2 subheading 1.2.2</td>\n",
       "      <td></td>\n",
       "      <td>379</td>\n",
       "    </tr>\n",
       "  </tbody>\n",
       "</table>\n",
       "</div>"
      ],
      "text/plain": [
       "        file_name             h1                  h2                      h3  \\\n",
       "0  demo_text.docx  1.0 heading 1                                               \n",
       "1  demo_text.docx  1.0 heading 1  1.1 subheading 1.1                           \n",
       "2  demo_text.docx  1.0 heading 1  1.2 subheading 1.2                           \n",
       "3  demo_text.docx  1.0 heading 1  1.2 subheading 1.2  1.2.1 subheading 1.2.1   \n",
       "4  demo_text.docx  1.0 heading 1  1.2 subheading 1.2  1.2.2 subheading 1.2.2   \n",
       "\n",
       "  h4  char_count  \n",
       "0             81  \n",
       "1            230  \n",
       "2            330  \n",
       "3             59  \n",
       "4            379  "
      ]
     },
     "execution_count": 18,
     "metadata": {},
     "output_type": "execute_result"
    }
   ],
   "source": [
    "df_agg.head()"
   ]
  },
  {
   "cell_type": "code",
   "execution_count": 19,
   "metadata": {},
   "outputs": [],
   "source": [
    "# add text to h2 when there is none - this is to account for the initial text at \n",
    "# the beginning of each chapter\n",
    "output_list = []\n",
    "for i_row, row in df_agg.iterrows():\n",
    "\n",
    "    h1 = row['h1']\n",
    "    h2 = row['h2']\n",
    "\n",
    "    h_value_list = []\n",
    "    for cn in heading_col_names[1:]:\n",
    "        h_value_list.append(row[cn]) \n",
    "    \n",
    "    h_value_list = np.array(object=h_value_list)\n",
    "    if np.all(a = h_value_list == ''):\n",
    "        h2 = h1\n",
    "\n",
    "    output_list.append(h2)"
   ]
  },
  {
   "cell_type": "code",
   "execution_count": 20,
   "metadata": {},
   "outputs": [],
   "source": [
    "df_agg['h2'] = output_list"
   ]
  },
  {
   "cell_type": "markdown",
   "metadata": {},
   "source": [
    "# save it!"
   ]
  },
  {
   "cell_type": "code",
   "execution_count": 21,
   "metadata": {},
   "outputs": [],
   "source": [
    "# save to a csv\n",
    "df_agg.to_csv(path_or_buf=output_fpn, sep='\\t', index=False)"
   ]
  },
  {
   "cell_type": "code",
   "execution_count": null,
   "metadata": {},
   "outputs": [],
   "source": []
  }
 ],
 "metadata": {
  "kernelspec": {
   "display_name": "analysis",
   "language": "python",
   "name": "python3"
  },
  "language_info": {
   "codemirror_mode": {
    "name": "ipython",
    "version": 3
   },
   "file_extension": ".py",
   "mimetype": "text/x-python",
   "name": "python",
   "nbconvert_exporter": "python",
   "pygments_lexer": "ipython3",
   "version": "3.12.7"
  }
 },
 "nbformat": 4,
 "nbformat_minor": 2
}
