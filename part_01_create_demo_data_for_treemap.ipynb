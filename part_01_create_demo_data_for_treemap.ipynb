{
 "cells": [
  {
   "cell_type": "code",
   "execution_count": 1,
   "id": "7f7c0818",
   "metadata": {},
   "outputs": [],
   "source": [
    "# mike babb\n",
    "# create a dummy Microsoft Word document complete with headings and subheadings\n",
    "# created: 2025 09 06"
   ]
  },
  {
   "cell_type": "code",
   "execution_count": 2,
   "id": "33a19b23",
   "metadata": {},
   "outputs": [],
   "source": [
    "# standard libraries\n",
    "import re"
   ]
  },
  {
   "cell_type": "code",
   "execution_count": 3,
   "id": "6a11e350",
   "metadata": {},
   "outputs": [],
   "source": [
    "# external libraries\n",
    "from docx import Document\n",
    "import lorem\n",
    "import numpy as np"
   ]
  },
  {
   "cell_type": "code",
   "execution_count": 4,
   "id": "d20f7212",
   "metadata": {},
   "outputs": [],
   "source": [
    "# create a list of headings and subheadings\n",
    "heading_list = [    \n",
    "'heading 1',\n",
    "'subheading 1.1',\n",
    "'subheading 1.2',\n",
    "'subheading 1.2.1',\n",
    "'subheading 1.2.2',\n",
    "'subheading 1.3',\n",
    "'subheading 1.4',\n",
    "'heading 2',\n",
    "'subheading 2.1',\n",
    "'subheading 2.2',\n",
    "'subheading 2.3',\n",
    "'subheading 2.3.1',\n",
    "'subheading 2.3.2',\n",
    "'subheading 2.4',\n",
    "'heading 3',\n",
    "'subheading 3.1',\n",
    "'subheading 3.2',\n",
    "'subheading 3.3',\n",
    "'subheading 3.4',\n",
    "'subheading 3.4.1',\n",
    "'subheading 3.4.2',\n",
    "'heading 4',\n",
    "'subheading 4.1',\n",
    "'subheading 4.1.1',\n",
    "'subheading 4.1.1.1',\n",
    "'subheading 4.1.1.2',\n",
    "'subheading 4.1.2',\n",
    "'subheading 4.2',\n",
    "'subheading 4.3',\n",
    "'subheading 4.4'\n",
    "]"
   ]
  },
  {
   "cell_type": "code",
   "execution_count": 5,
   "id": "606c5ab0",
   "metadata": {},
   "outputs": [],
   "source": [
    "# okay, now build the document\n",
    "document = Document()\n",
    "\n",
    "# let's check our heading and random text\n",
    "headings_and_random_text_list = []\n",
    "for ht in heading_list:\n",
    "    \n",
    "    # use regex to get the numerical heading depth\n",
    "    heading_depth = len(re.findall(r'\\d', ht))\n",
    "    # the count of the numbers is the heading depth\n",
    "\n",
    "    \n",
    "    # the number of characters to take\n",
    "    my_integer = np.random.randint(low = 10, high = 1001)\n",
    "\n",
    "    # create random text using lorem: https://github.com/JarryShaw/lorem\n",
    "    # get 200 words\n",
    "    random_text = lorem.get_word(count = 200)[:my_integer]\n",
    "    \n",
    "    # add to the list\n",
    "    headings_and_random_text_list.append(ht)\n",
    "    headings_and_random_text_list.append(random_text)\n",
    "\n",
    "\n",
    "    document.add_heading(text=ht, level=heading_depth)\n",
    "    document.add_paragraph(text = random_text)\n",
    "\n",
    "# save the document with the added text\n",
    "output_doc_fpn = 'demo_text.docx'\n",
    "document.save(path_or_stream=output_doc_fpn)"
   ]
  },
  {
   "cell_type": "code",
   "execution_count": 6,
   "id": "02aa5b23",
   "metadata": {},
   "outputs": [
    {
     "data": {
      "text/plain": [
       "['heading 1',\n",
       " 'veniam non ad reprehenderit sunt dolor minim velit sed irure magna excepteur cupidatat culpa ad exercitation incididunt officia pariatur est labore deserunt non enim nostrud irure culpa officia fugiat aute voluptate pariatur elit anim nulla consectetur sunt veniam aliqua sit voluptate velit veniam sunt aliquip fugiat cupidatat fugiat elit reprehenderit proident laboris anim ut occaecat cupidatat eiusmod ut nulla tempor do ad velit proident culpa velit aliquip eu do cupidatat ea sed laboris occaecat pariatur ipsum ullamco deserunt ullamco aliquip occaecat id duis sunt adipiscing enim lorem veniam tempor laborum tempor eu exercitation ut adipiscing nulla cillum est esse laboris voluptate minim irure non ipsum et irure consectetur excepteur magna duis dolor tempor excepteur proident adipiscing eiusmod voluptate eu consectetur elit et fugiat voluptate et cupidatat deserunt cillum dolor eu enim commodo esse labore sit cupidatat eiusmod en',\n",
       " 'subheading 1.1',\n",
       " 'est non nisi laborum dolor veniam sint aliqua laborum pariatur nostrud ex lorem aliquip laboris velit adipiscing cupidatat nostrud reprehenderit in amet nostrud dolor commodo sunt adipiscing qui labore amet pariatur mollit fugiat velit laborum elit aliquip duis ipsum culpa velit id duis magna elit pariatur enim elit esse nostrud aliqua officia magna consequat enim amet minim adipiscing cillum pariatur duis est minim ea aliquip enim elit cillum adipiscing lorem fugiat sint enim magna non eiusmod labore est elit cillum amet et labore exercitation nisi excepteur cupidatat eiusmod laborum enim labore ea est culpa sit sit occaecat laboris cupidatat sint eu irure culpa reprehenderit quis non ipsum dolor cillum minim ad et dolor consequat commodo sit magna cillum pariatur mollit magna eu nostrud anim reprehenderit consectetur fugiat reprehenderit aute officia esse cillum fugiat eiusmod lorem ipsum laborum fugiat aliquip eu exer',\n",
       " 'subheading 1.2',\n",
       " 'quis adipiscing nisi sed consectetur sint duis irure consectetur deserunt dolor tempor et enim do tempor cillum labore id aliquip esse ad id aliqua non aliqua magna deserunt non sit tempor commodo nulla labore culpa eiusmod mollit magna cupidatat aliqua reprehenderit excepteur est minim laborum aliquip enim consectetur ut do fugiat aliqua adipiscing proident nostrud eu commodo culpa fugiat mollit sit anim do laborum reprehenderit non sint nostrud ex est est sint do veniam aliqua voluptat',\n",
       " 'subheading 1.2.1',\n",
       " 'mollit in in deserunt minim voluptate commodo pariatur occaecat sint voluptate culpa est nisi sit do eiusmod enim ullamco non officia nulla ex sit ad commodo officia culpa eu voluptate commodo non elit consectetur exercitation ad exercitation aliqua consectetur cillum dolore minim exercitation enim ea sed pariatur nulla officia fugiat deserunt irure eiusmod ad culpa duis commodo deserunt officia tempor labore culpa cillum eiusmod laboris velit lorem mollit eiusmod ut sit exercitation ad tempor aliquip sint consectetur nulla lorem voluptate elit officia ipsum ullamco ex ea nisi dolor sit commodo ad consectetur veniam proident irure sint exe',\n",
       " 'subheading 1.2.2',\n",
       " 'ad aliqua mollit ipsum laborum duis commodo culpa aute sit sunt sunt occaecat veniam exercitation nulla culpa dolor nostrud veniam irure et excepteur sit ex veniam sunt eu laboris voluptate amet elit amet id mollit ipsum exercitation non est minim enim cillum qui voluptate sit duis consectetur duis eu culpa sit in nulla sint tempor aliquip fugiat incididunt aliqua cillum magna irure sunt enim veniam est eu est sed sed cupidatat in nulla veniam lorem lorem occaecat sit consectetur reprehenderit culpa consectetur amet labore magna offi']"
      ]
     },
     "execution_count": 6,
     "metadata": {},
     "output_type": "execute_result"
    }
   ],
   "source": [
    "# check the list\n",
    "headings_and_random_text_list[:10]"
   ]
  }
 ],
 "metadata": {
  "kernelspec": {
   "display_name": "analysis",
   "language": "python",
   "name": "python3"
  },
  "language_info": {
   "codemirror_mode": {
    "name": "ipython",
    "version": 3
   },
   "file_extension": ".py",
   "mimetype": "text/x-python",
   "name": "python",
   "nbconvert_exporter": "python",
   "pygments_lexer": "ipython3",
   "version": "3.12.7"
  }
 },
 "nbformat": 4,
 "nbformat_minor": 5
}
