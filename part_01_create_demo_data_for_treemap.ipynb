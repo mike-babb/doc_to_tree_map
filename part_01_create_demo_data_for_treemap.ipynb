{
 "cells": [
  {
   "cell_type": "code",
   "execution_count": 1,
   "id": "7f7c0818",
   "metadata": {},
   "outputs": [],
   "source": [
    "# mike babb\n",
    "# create a dummy Microsoft Word document complete with headings and subheadings\n",
    "# created: 2025 09 06"
   ]
  },
  {
   "cell_type": "code",
   "execution_count": 2,
   "id": "33a19b23",
   "metadata": {},
   "outputs": [],
   "source": [
    "# standard libraries\n",
    "import re"
   ]
  },
  {
   "cell_type": "code",
   "execution_count": null,
   "id": "6a11e350",
   "metadata": {},
   "outputs": [],
   "source": [
    "# external libraries\n",
    "from docx import Document\n",
    "import lorem\n",
    "import numpy as np"
   ]
  },
  {
   "cell_type": "code",
   "execution_count": 4,
   "id": "d20f7212",
   "metadata": {},
   "outputs": [],
   "source": [
    "# create a list of headings and subheadings\n",
    "heading_list = [    \n",
    "'heading 1',\n",
    "'subheading 1.1',\n",
    "'subheading 1.2',\n",
    "'subheading 1.2.1',\n",
    "'subheading 1.2.2',\n",
    "'subheading 1.3',\n",
    "'subheading 1.4',\n",
    "'heading 2',\n",
    "'subheading 2.1',\n",
    "'subheading 2.2',\n",
    "'subheading 2.3',\n",
    "'subheading 2.3.1',\n",
    "'subheading 2.3.2',\n",
    "'subheading 2.4',\n",
    "'heading 3',\n",
    "'subheading 3.1',\n",
    "'subheading 3.2',\n",
    "'subheading 3.3',\n",
    "'subheading 3.4',\n",
    "'subheading 3.4.1',\n",
    "'subheading 3.4.2',\n",
    "'heading 4',\n",
    "'subheading 4.1',\n",
    "'subheading 4.1.1',\n",
    "'subheading 4.1.1.1',\n",
    "'subheading 4.1.1.2',\n",
    "'subheading 4.1.2',\n",
    "'subheading 4.2',\n",
    "'subheading 4.3',\n",
    "'subheading 4.4'\n",
    "]"
   ]
  },
  {
   "cell_type": "code",
   "execution_count": 6,
   "id": "606c5ab0",
   "metadata": {},
   "outputs": [],
   "source": [
    "# okay, now build the document\n",
    "document = Document()\n",
    "\n",
    "# let's check our heading and random text\n",
    "headings_and_random_text_list = []\n",
    "for ht in heading_list:\n",
    "    \n",
    "    # use regex to get the numerical heading depth\n",
    "    heading_depth = len(re.findall(r'\\d', ht))\n",
    "    # the count of the numbers is the heading depth\n",
    "\n",
    "    \n",
    "    # the number of characters to take\n",
    "    my_integer = np.random.randint(low = 10, high = 1001)\n",
    "\n",
    "    # create random text using lorem: https://github.com/JarryShaw/lorem\n",
    "    # get 200 words\n",
    "    random_text = lorem.get_word(count = 200)[:my_integer]\n",
    "    \n",
    "    # add to the list\n",
    "    headings_and_random_text_list.append(ht)\n",
    "    headings_and_random_text_list.append(random_text)\n",
    "\n",
    "\n",
    "    document.add_heading(text=ht, level=heading_depth)\n",
    "    document.add_paragraph(text = random_text)\n",
    "\n",
    "# save the document with the added text\n",
    "output_doc_fpn = 'demo_text.docx'\n",
    "document.save(path_or_stream=output_doc_fpn)"
   ]
  },
  {
   "cell_type": "code",
   "execution_count": 7,
   "id": "02aa5b23",
   "metadata": {},
   "outputs": [
    {
     "data": {
      "text/plain": [
       "['heading 1',\n",
       " 'culpa esse laborum aliquip nisi culpa mollit incididunt elit ea cillum id consect',\n",
       " 'subheading 1.1',\n",
       " 'aliquip esse qui velit consequat aliquip in mollit exercitation proident laborum aliquip elit cupidatat nulla sunt quis cillum lorem et sunt anim ex et occaecat ut sit id culpa do enim consequat ea incididunt duis sit ut cupidatat',\n",
       " 'subheading 1.2',\n",
       " 'occaecat id sit sit et minim dolor deserunt deserunt cupidatat laboris dolore consequat enim adipiscing ea excepteur exercitation sint nostrud pariatur sint dolore ullamco enim consectetur irure ut aliqua aliquip enim pariatur ad laborum ut sunt sit cillum nulla aliqua veniam cillum incididunt sint sunt ut cillum dolor ex eiusmo',\n",
       " 'subheading 1.2.1',\n",
       " 'pariatur consequat fugiat ea consequat ad cupidatat velit i',\n",
       " 'subheading 1.2.2',\n",
       " 'esse esse laborum consectetur eu dolor in nostrud laboris aute deserunt qui labore qui ut qui occaecat ullamco mollit commodo fugiat nisi ut anim qui labore enim lorem amet do nisi id qui non aliqua irure in sed laborum officia non esse velit est incididunt ad amet adipiscing est do commodo adipiscing ea fugiat qui enim velit occaecat elit officia et magna mollit fugiat culpa ']"
      ]
     },
     "execution_count": 7,
     "metadata": {},
     "output_type": "execute_result"
    }
   ],
   "source": [
    "# check the list\n",
    "headings_and_random_text_list[:10]"
   ]
  }
 ],
 "metadata": {
  "kernelspec": {
   "display_name": "analysis",
   "language": "python",
   "name": "python3"
  },
  "language_info": {
   "codemirror_mode": {
    "name": "ipython",
    "version": 3
   },
   "file_extension": ".py",
   "mimetype": "text/x-python",
   "name": "python",
   "nbconvert_exporter": "python",
   "pygments_lexer": "ipython3",
   "version": "3.12.7"
  }
 },
 "nbformat": 4,
 "nbformat_minor": 5
}
